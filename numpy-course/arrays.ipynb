{
 "cells": [
  {
   "cell_type": "code",
   "execution_count": 14,
   "metadata": {},
   "outputs": [
    {
     "data": {
      "text/plain": [
       "2"
      ]
     },
     "execution_count": 14,
     "metadata": {},
     "output_type": "execute_result"
    }
   ],
   "source": [
    "import numpy as np\n",
    "\n",
    "# num1 = np.array([1, 2, 3, 4, 5])\n",
    "# num2 = np.array([6, 7, 8, 9, 10])\n",
    "# merge two arrays\n",
    "# num3 = np.concatenate((num1, num2))\n",
    "# shape of the array\n",
    "# num3.shape\n",
    "# resizes the array\n",
    "# num4 = np.resize(num3, (2, 5))\n",
    "# num4.shape\n",
    "# num4.ndim\n",
    "# num4 = np.resize(num3, (2, 6))\n",
    "# num4\n",
    "# for a in range(1, 11):\n",
    "#     if a%2==0:\n",
    "#         print(a)\n",
    "    "
   ]
  },
  {
   "cell_type": "code",
   "execution_count": 34,
   "metadata": {},
   "outputs": [
    {
     "data": {
      "text/plain": [
       "array([ 2,  4,  6,  8, 10])"
      ]
     },
     "execution_count": 34,
     "metadata": {},
     "output_type": "execute_result"
    }
   ],
   "source": [
    "# num1 = np.array([1, 2, 3, 4, 5,6, 7, 8, 9, 10],ndmin=2)\n",
    "num1 = np.array([1, 2, 3, 4, 5,6, 7, 8, 9, 10])\n",
    "\n",
    "# num1[0][-1]\n",
    "# num1[0, -1]\n",
    "# get only even numbers\n",
    "# num1[0, 1::2]\n",
    "a = num1[(num1%2==0)]    \n",
    "# odd\n",
    "# 5>\n",
    "# 5<\n",
    "# 2-8\n",
    "\n",
    "# name ='hello python'\n",
    "# name[::-1]\n",
    "\n",
    "# num1 = np.array([1, 2, 3, 4, 5,6, 7, 8, 9, 10])\n"
   ]
  },
  {
   "cell_type": "code",
   "execution_count": null,
   "metadata": {},
   "outputs": [],
   "source": []
  }
 ],
 "metadata": {
  "kernelspec": {
   "display_name": "Python 3",
   "language": "python",
   "name": "python3"
  },
  "language_info": {
   "codemirror_mode": {
    "name": "ipython",
    "version": 3
   },
   "file_extension": ".py",
   "mimetype": "text/x-python",
   "name": "python",
   "nbconvert_exporter": "python",
   "pygments_lexer": "ipython3",
   "version": "3.12.1"
  }
 },
 "nbformat": 4,
 "nbformat_minor": 2
}
