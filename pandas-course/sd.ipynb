{
 "cells": [
  {
   "cell_type": "code",
   "execution_count": 14,
   "metadata": {},
   "outputs": [],
   "source": [
    "import pandas as pd\n",
    "\n",
    "data = pd.read_csv('./Laptop_price.csv')\n",
    "ndata =data['Brand']\n",
    "# ndata\n",
    "# save new csv brand file\n",
    "ndata.to_csv('new_brand.csv')\n",
    "# group by \n",
    "# data.groupby('Brand').mean()\n",
    "# get only ram size < 6 GB\n",
    "# data[data['RAM_Size'] < 6]\n",
    "# get only ram size <6 and screen size < 12\n",
    "# data[(data['RAM_Size'] < 6) & (data['Screen_Size'] < 12)]\n",
    "# data[(data['RAM_Size'] < 6) & (data['Screen_Size'] < 12)]\n",
    "# where clause\n",
    "# filter = data['RAM_Size'] < 6\n",
    "# data.where(filter, inplace=False)\n",
    "\n",
    "\n",
    "\n",
    "\n",
    "\n",
    "# data[['Brand','Price','Storage_Capacity','RAM_Size']].head(10)\n",
    "# new_data =data[['RAM_Size']]\n",
    "# new_data\n",
    "# data['Brand']\n",
    "# data['Brand']\n",
    "# data\n",
    "# data.head(100)"
   ]
  },
  {
   "cell_type": "code",
   "execution_count": null,
   "metadata": {},
   "outputs": [],
   "source": []
  }
 ],
 "metadata": {
  "kernelspec": {
   "display_name": "Python 3",
   "language": "python",
   "name": "python3"
  },
  "language_info": {
   "codemirror_mode": {
    "name": "ipython",
    "version": 3
   },
   "file_extension": ".py",
   "mimetype": "text/x-python",
   "name": "python",
   "nbconvert_exporter": "python",
   "pygments_lexer": "ipython3",
   "version": "3.12.1"
  }
 },
 "nbformat": 4,
 "nbformat_minor": 2
}
