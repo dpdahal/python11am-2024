{
 "cells": [
  {
   "cell_type": "code",
   "execution_count": 6,
   "metadata": {},
   "outputs": [
    {
     "name": "stdout",
     "output_type": "stream",
     "text": [
      "   sn   name section  nep  eng  sic  com  mat  total  percentage     division\n",
      "0   1    ram       a   67   78   89   90   78    402        80.4  distinction\n",
      "1   2  shyam       a   78   89   90   67   78    402        80.4  distinction\n",
      "2   3   hari       b   89   90   67   78   89    413        82.6  distinction\n",
      "3   4   gita       b   90   67   78   89   90    414        82.8  distinction\n",
      "4   5   sita       c   67   78   89   90   67    391        78.2        first\n",
      "5   6   nita       c   78   89   90   67   78    402        80.4  distinction\n",
      "6   7   rita       d   89   90   67   78   89    413        82.6  distinction\n"
     ]
    }
   ],
   "source": [
    "import pandas as pd\n",
    "\n",
    "result = pd.read_csv('students-result.csv')\n",
    "result['total'] = result['nep'] + result['eng'] + result['sic'] + result['com'] + result['mat']\n",
    "result['percentage'] = result['total'] / 5\n",
    "# result['division'] = pd.cut(result['percentage'], bins=[0, 40, 60, 80, 100], labels=['fail', 'second', 'first', 'distinction'])\n",
    "# result['division'] = result['percentage'].apply(lambda x: 'fail' if x < 40 else 'second' if x < 60 else 'first' if x < 80 else 'distinction')\n",
    "\n",
    "def get_division(percentage):\n",
    "    if percentage < 40:\n",
    "        return 'fail'\n",
    "    elif percentage < 60:\n",
    "        return 'second'\n",
    "    elif percentage < 80:\n",
    "        return 'first'\n",
    "    else:\n",
    "        return 'distinction'\n",
    "result['division'] = result['percentage'].apply(get_division)\n",
    "print(result)"
   ]
  },
  {
   "cell_type": "code",
   "execution_count": null,
   "metadata": {},
   "outputs": [],
   "source": []
  }
 ],
 "metadata": {
  "kernelspec": {
   "display_name": "Python 3",
   "language": "python",
   "name": "python3"
  },
  "language_info": {
   "codemirror_mode": {
    "name": "ipython",
    "version": 3
   },
   "file_extension": ".py",
   "mimetype": "text/x-python",
   "name": "python",
   "nbconvert_exporter": "python",
   "pygments_lexer": "ipython3",
   "version": "3.12.1"
  }
 },
 "nbformat": 4,
 "nbformat_minor": 2
}
